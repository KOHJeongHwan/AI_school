{
  "nbformat": 4,
  "nbformat_minor": 0,
  "metadata": {
    "colab": {
      "name": "4주차 과제.ipynb",
      "provenance": [],
      "collapsed_sections": [],
      "include_colab_link": true
    },
    "kernelspec": {
      "name": "python3",
      "display_name": "Python 3"
    }
  },
  "cells": [
    {
      "cell_type": "markdown",
      "metadata": {
        "id": "view-in-github",
        "colab_type": "text"
      },
      "source": [
        "<a href=\"https://colab.research.google.com/github/KOHJeongHwan/AI_school/blob/master/4%EC%A3%BC%EC%B0%A8_%EA%B3%BC%EC%A0%9C.ipynb\" target=\"_parent\"><img src=\"https://colab.research.google.com/assets/colab-badge.svg\" alt=\"Open In Colab\"/></a>"
      ]
    },
    {
      "cell_type": "markdown",
      "metadata": {
        "id": "wxkL6PjwsI6L",
        "colab_type": "text"
      },
      "source": [
        "# 4주차 과제\n",
        "- 용어 정리\n",
        "- 딥러닝 강의 클론 코딩\n",
        "- 딥러닝 순전파 & 역전파 계산"
      ]
    },
    {
      "cell_type": "markdown",
      "metadata": {
        "id": "ixEtDe6_uGgI",
        "colab_type": "text"
      },
      "source": [
        "## 1. 용어 정리\n",
        "\n",
        "다음 제시된 단어의 정의(설명)를 정리하여 작성 하세요.\n",
        "\n",
        "* 2문장 이상 작성 해 주세요. \n",
        "* 주제(단어)와 크게 벗어나지만 않는다면 정답처리 됩니다.\n",
        "* 강의 뿐 아니라 기타 레퍼런스를 참고하여 작성하셔도 됩니다. (기타 레퍼런스를 참고하신 경우, 해당 레퍼런스를 정리하여 하단에 작성해 주세요.)\n"
      ]
    },
    {
      "cell_type": "markdown",
      "metadata": {
        "id": "0lfwat8eurKZ",
        "colab_type": "text"
      },
      "source": [
        "__(예시)__\n",
        "### 심층 신경망\n",
        ": 입력층과 출력층 사이에 여러 개의 은닉층들로 이뤄진 인공신경망이다. 심층 신경망은 일반적으로 인공신경망과 마찬가지로 복잡한 비선형 관계들을 모델링 할 수 있다. 신층신경망의 목적은 분류 및 수치예측을 하기 위함이고 이미지 트레이닝이나 문자인식과 같은 분야에서 매우 유용하게 쓰이고 있다."
      ]
    },
    {
      "cell_type": "markdown",
      "metadata": {
        "id": "Y8YJNKG_v65A",
        "colab_type": "text"
      },
      "source": [
        "### MCP 뉴런\n",
        ": AI를 설명하기위한 초기 신경 시스템 모델 중 하나이다. MCP 뉴런은 생물학적 뇌가 동작하는 방식을 이해하려는 시도로, 1943년 워랜 맥컬록과 월터 피츠는 처음으로 간소화된 뇌의 뉴런 개념을 발표하였다. 그들은 인간의 두뇌를 논리적 서술을 구현하는 이진 원소들의 결합으로 추측했는데, 이진 원소인 뉴런은 on이나 off 상태를 나타낸다. 이를 맥컬록-피츠 뉴런(MCP) 라 한다.\n",
        "\n",
        "참고 자료 : [aistudy](http://www.aistudy.co.kr/neural/McCulloch_Pitts.htm) , precourse 강의\n",
        "\n",
        "### 퍼셉트론\n",
        ": 1957년 프랑크 로젠블렛이 MCP를 기반으로 고안한 알고리즘이다. 퍼셉트론은 입력을 받아서 가중치를 통해 출력을 반환하는 구조로 되어있으며, 자동으로 최적의 가중치를 학습하는 알고리즘이다. 단층 퍼셉트론은 선형분리의 단순한 예인 XOR 문제도 해결할 수 없어 인공지능의 겨울을 불렀지만, 다층 퍼셉트론 모델의 기반이 되어 문자인식을 비롯한 여러분야에 폭넓게 응용되었다. \n",
        "\n",
        "참고 자료 : [aistudy](http://www.aistudy.com/neural/perceptron.htm), precourse 강의, [위키백과](https://ko.wikipedia.org/wiki/%ED%8D%BC%EC%85%89%ED%8A%B8%EB%A1%A0)\n",
        "\n",
        "### 역전파\n",
        ": 신경망에서 쓰이는 파라미터의 개수가 많은데, 이러한 가중치들을 효과적으로 찾을수 있는 방법이 역전파 이다. 역전파는 예측값과 실제값의 오차를 구해, 이 오차에 관여하는 값들의 가중치를 업데이트 하여, 오차가 작아지는 방향으로 일정 횟수를 반복해 수정하는 방법이다. 출력층에서 입력층 쪽으로 가중치를 조절하기 때문에 역전파라 불린다.\n",
        "\n",
        "참고 자료 : [해시넷](http://wiki.hash.kr/index.php/%EC%97%AD%EC%A0%84%ED%8C%8C), precourse 강의\n",
        "\n",
        "### 강화학습\n",
        ": 기계학습의 한 영역으로서, 보상을 최대화하는 의사결정 전략이다. 어떤 환경 안에서 정의된 에이전트가 현재의 상태를 인식하여, 선택 가능한 행동들 중 보상을 최대화하는 행동 혹은 행동 순서를 선택한다. 강화학습은 다양한 시행착오를 통해 학습이 가능하며 비교적 명확한 보상을 설정할 수 있는 문제를 해결하는데 사용된다. 2016년 3월 구글 딥마인드의 알파고가 강화학습의 대표적인 예시이다. \n",
        "\n",
        "참고 자료 : [위키백과](https://ko.wikipedia.org/wiki/%EA%B0%95%ED%99%94_%ED%95%99%EC%8A%B5), precourse 강의\n",
        "\n",
        "### 과적합\n",
        ": 과적합은 기계학습에서 학습 데이터를 과하게 학습하는 것을 말한다. 학습 데이터를 과하게 학습하면 학습 데이터에서는 오차가 적겠지만, 생성된 함수가 학습 데이터에만 적합하기 때문에 실제 데이터에서는 오차가 증가하게 된다. \n",
        "\n",
        "참고 자료 : [위키백과](https://ko.wikipedia.org/wiki/%EA%B3%BC%EC%A0%81%ED%95%A9), precourse 강의\n",
        "### 차원의 저주\n",
        ": 데이터의 차원이 커질수록 공간의 크기가 증가하기 때문에 동일한 개수의 데이터 밀도는 차원이 증가할 수록 희박해진다. 따라서, 차원이 증가할 수록 모델 추정에 필요한 샘플 데이터의 개수가 기하급수적으로 증가하게되는 현상을 뜻한다. KNN 분류 알고리즘에서 흔하게 발생하는 문제이다. 차원의 저주를 해결하는 방법중 하나로 차원 축소가 있다. \n",
        "\n",
        "참고 자료 : [차원의 문제](https://darkpgmr.tistory.com/145), precourse 강의"
      ]
    },
    {
      "cell_type": "markdown",
      "metadata": {
        "id": "d-zfFXLCy6jD",
        "colab_type": "text"
      },
      "source": [
        "## 2. 딥러닝 강의 클론 코딩\n",
        "\n",
        "####__퍼셉트론 구조 구현하기__ \n",
        "딥러닝 강의(__딥러닝 원리[1] 3:15 ~ 5:15 부분__)를 보고 코드를 따라 치며 출력 결과를 만드세요.\n",
        " \n",
        "\n",
        "* 하나의 코드셀에 해당 코드를 한번에 다 적어서 실행해주세요 (__그렇게 하지 않을 경우, 아래 이미지와 같은 출력값이 나오지 않을 수 있습니다__)\n",
        "\n",
        "*__주의!__ 실제로 코딩해서 출력해보면 강의에 나온 출력 결과와 다르게 나옵니다!!\n"
      ]
    },
    {
      "cell_type": "markdown",
      "metadata": {
        "id": "wcc5mzI9oZ7r",
        "colab_type": "text"
      },
      "source": [
        "![대체 텍스트](https://www.notion.so/image/https%3A%2F%2Fs3-us-west-2.amazonaws.com%2Fsecure.notion-static.com%2F0cceeed0-0235-4b0f-af88-0b8c377d5b4b%2F_2020-06-09__9.35.23.png?table=block&id=88fd8912-9356-49a4-9fda-a1a63fe96ea9&width=2870&cache=v2)"
      ]
    },
    {
      "cell_type": "code",
      "metadata": {
        "id": "nPsWRUENitau",
        "colab_type": "code",
        "colab": {
          "base_uri": "https://localhost:8080/",
          "height": 215
        },
        "outputId": "92dd812e-25b4-43b6-b9bc-e2a381b7ab10"
      },
      "source": [
        "import tensorflow as tf\n",
        "tf.compat.v1.set_random_seed(2020)\n",
        "x = 1\n",
        "y = 0\n",
        "w = tf.random.normal([1],0.1)\n",
        "\n",
        "import math\n",
        "def sigmoid(x) :\n",
        "  return 1/(1 + math.exp(-x))\n",
        "\n",
        "output = sigmoid( x * w )\n",
        "print(output)\n",
        "\n",
        "for i in range(1000) :\n",
        "  output = sigmoid(x*w)\n",
        "  error = y - output\n",
        "  w = w + x * 0.1 * error\n",
        "\n",
        "  if i % 100 == 99 :\n",
        "    print(\"학습 횟수:\", i, \"Error:\", error, \"예측 결과:\", output)\n"
      ],
      "execution_count": 1,
      "outputs": [
        {
          "output_type": "stream",
          "text": [
            "0.4997504446862735\n",
            "학습 횟수: 99 Error: -0.10197461694385973 예측 결과: 0.10197461694385973\n",
            "학습 횟수: 199 Error: -0.05230575853093719 예측 결과: 0.05230575853093719\n",
            "학습 횟수: 299 Error: -0.03482656647583864 예측 결과: 0.03482656647583864\n",
            "학습 횟수: 399 Error: -0.026022842061119163 예측 결과: 0.026022842061119163\n",
            "학습 횟수: 499 Error: -0.020743888504218044 예측 결과: 0.020743888504218044\n",
            "학습 횟수: 599 Error: -0.017233285858519236 예측 결과: 0.017233285858519236\n",
            "학습 횟수: 699 Error: -0.014732793938212741 예측 결과: 0.014732793938212741\n",
            "학습 횟수: 799 Error: -0.012862591291669279 예측 결과: 0.012862591291669279\n",
            "학습 횟수: 899 Error: -0.011411682660677939 예측 결과: 0.011411682660677939\n",
            "학습 횟수: 999 Error: -0.010253604413421538 예측 결과: 0.010253604413421538\n"
          ],
          "name": "stdout"
        }
      ]
    },
    {
      "cell_type": "markdown",
      "metadata": {
        "id": "kr0HVRk8fOom",
        "colab_type": "text"
      },
      "source": [
        "## 3. 딥러닝 순전파 & 역전파 계산\n",
        "\n",
        "딥러닝 강의(__딥러닝 원리[2] 0:55 ~ 4:32 부분__)에 나오는 순전파 & 역전파 계산에 대한 문제 입니다.\n",
        "\n",
        "해당 영상과 다음 이미지를 참고하여 다음 2가지 물음에 답하세요.\n",
        "\n",
        "\n",
        "(1) 학습률이 0.2 일 경우 출력층의 노드값\n",
        "\n",
        "(2) 학습률이 0.1과 0.2 중 기대출력값이 지도데이터 \"3\"과 더 가까운 학습률은?"
      ]
    },
    {
      "cell_type": "markdown",
      "metadata": {
        "id": "CpwPFWhOUzww",
        "colab_type": "text"
      },
      "source": [
        "![대체 텍스트](https://www.notion.so/image/https%3A%2F%2Fs3-us-west-2.amazonaws.com%2Fsecure.notion-static.com%2Ff54dfd45-92ec-44ae-9616-6949d2484a45%2F_2020-06-10__5.22.03.png?table=block&id=ee05da89-3ceb-4ad9-a2d3-c9f68d24d1d9&width=3580&cache=v2)"
      ]
    },
    {
      "cell_type": "markdown",
      "metadata": {
        "id": "B2OVY7w5U3CI",
        "colab_type": "text"
      },
      "source": [
        "## (1) 학습률이 0.2 일 경우 출력층의 노드값 : 1.6\n",
        "## (2) 학습률이 0.1과 0.2 중 기대출력값이 지도데이터 \"3\"과 더 가까운 학습률은? : 0.1"
      ]
    }
  ]
}