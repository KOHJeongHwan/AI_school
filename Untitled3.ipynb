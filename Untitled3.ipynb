{
  "nbformat": 4,
  "nbformat_minor": 0,
  "metadata": {
    "colab": {
      "name": "Untitled3.ipynb",
      "provenance": [],
      "authorship_tag": "ABX9TyNitw2I85fTeiRCHkW753yi",
      "include_colab_link": true
    },
    "kernelspec": {
      "name": "python3",
      "display_name": "Python 3"
    }
  },
  "cells": [
    {
      "cell_type": "markdown",
      "metadata": {
        "id": "view-in-github",
        "colab_type": "text"
      },
      "source": [
        "<a href=\"https://colab.research.google.com/github/KOHJeongHwan/AI_school/blob/master/Untitled3.ipynb\" target=\"_parent\"><img src=\"https://colab.research.google.com/assets/colab-badge.svg\" alt=\"Open In Colab\"/></a>"
      ]
    },
    {
      "cell_type": "markdown",
      "metadata": {
        "id": "LEuU8lL5cxGf",
        "colab_type": "text"
      },
      "source": [
        "#인공지능이 사용되는 4가지 분야\n",
        "\n",
        "현재 인공지능이 적용된 기술들은 매우 많다. 그중 아직 연구단계인 것들도 있고 상용화된 기술들도 있다. \n",
        "이번 조사에서는 현재 상용화된 기술과 나의 흥미 위주로 진행하였다.\n",
        "\n",
        "##언어분야\n",
        "\n",
        "* __인공지능 스포츠 기사를 작성하는 *'야알봇'*__\n",
        "\n",
        "![야알봇 페이스북 캡쳐](https://user-images.githubusercontent.com/44537703/82758670-deaa4980-9e22-11ea-82fd-438a21b74c94.png)\n",
        "\n",
        "야알봇은 KBO 경기 내용을 토대로 스포츠 기사를 작성하는 인공지능이다.\n",
        "\n",
        "야알봇이 기사를 작성하는데는 4단계가 필요하다.\n",
        "\n",
        "1. 데이터 수집\n",
        "\n",
        "    포털 사이트에서 경기를 실시간으로 줄계하는 문자 중계 데이터를 모은다.\n",
        "\n",
        "2. 중요 이벤트 선별\n",
        "\n",
        "    '세이버 매트릭스' 알고리즘(다양한 수치를 활용해 중요한 플레이를 찾아내는 통계기법)을 이용하여 데이터를 추출하고, 이를 이벤트라는 이름으로 저장한다.\n",
        "\n",
        "    이벤트에는 중요도를 부여한다.\n",
        "\n",
        "3. 무드 탐지 \n",
        "\n",
        "    중요 이벤트를 묶어 기사의 분위기를 설정\n",
        "\n",
        "4. 기사 작성\n",
        "\n",
        "    알고리즘을 이용해 비워둔 문장과 데이터에 주어와 목적어를 결합한다.\n",
        "\n",
        "야알봇이 1500자 이내의 기사를 쓸때 걸리는 시간은 약 0.3초 라고한다. 또한 사람이 쓴 기사와 비교해봤을때, 46.9% 의 사람들은 어느것이 야알봇이 쓴 기사인지 모른다고 한다. 거의 비슷하다는 이야기다. \n",
        "\n",
        "단순히 빠른 시간안에 경기의 정보를 전달할때는 사람보다 야알봇을 사용하는 것이 더 좋을것 같다. 물론 오보나 예측, 감정이 실린 기사는 사람이 더 잘쓴다. 하지만 더욱더 발전된 알고리즘이 등장한다면 완벽한 스포츠 기사 뿐만 아니라 신문 기사도 인공지능이 작성하는 날이 올것이다. 매우 흥미롭다.\n",
        "\n",
        "참조 링크 : [https://news.joins.com/article/20093225](https://news.joins.com/article/20093225) \"[소년중앙] 0.3초 만에 1500자 기사...정말 로봇이 쓴 것 맞나요\"\n",
        " , [https://ko-kr.facebook.com/pg/kbaseballbot/posts/?ref=page_internal](https://ko-kr.facebook.com/pg/kbaseballbot/posts/?ref=page_internal)\"야알봇 페이스북페이지\"\n",
        "* __*챗봇*__\n",
        "\n",
        "\n",
        "\n",
        "\n",
        "\n",
        "\n",
        "##음성분야\n",
        "\n",
        "* 네이버 클로바 음성 서비스\n",
        "* 음성인식\n",
        "\n",
        "##이미지 분야\n",
        "\n",
        "* 야구 하이라이트 자동 생성 서비스\n",
        "* 얼굴 인식을 통한 출입관리\n",
        "\n",
        "##자율주행\n",
        "\n",
        "* 테슬라 완전자율주행\n",
        "\n",
        "\n",
        "\n",
        "\n"
      ]
    },
    {
      "cell_type": "code",
      "metadata": {
        "id": "jn-Z991LWryD",
        "colab_type": "code",
        "colab": {}
      },
      "source": [
        ""
      ],
      "execution_count": 0,
      "outputs": []
    },
    {
      "cell_type": "code",
      "metadata": {
        "id": "4s7yfcZz3sph",
        "colab_type": "code",
        "colab": {}
      },
      "source": [
        "ㅆ"
      ],
      "execution_count": 0,
      "outputs": []
    }
  ]
}