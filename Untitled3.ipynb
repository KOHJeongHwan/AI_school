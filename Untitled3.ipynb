{
  "nbformat": 4,
  "nbformat_minor": 0,
  "metadata": {
    "colab": {
      "name": "Untitled3.ipynb",
      "provenance": [],
      "authorship_tag": "ABX9TyNyaAdsW90n0pP30SmzXC2r",
      "include_colab_link": true
    },
    "kernelspec": {
      "name": "python3",
      "display_name": "Python 3"
    }
  },
  "cells": [
    {
      "cell_type": "markdown",
      "metadata": {
        "id": "view-in-github",
        "colab_type": "text"
      },
      "source": [
        "<a href=\"https://colab.research.google.com/github/KOHJeongHwan/AI_school/blob/master/Untitled3.ipynb\" target=\"_parent\"><img src=\"https://colab.research.google.com/assets/colab-badge.svg\" alt=\"Open In Colab\"/></a>"
      ]
    },
    {
      "cell_type": "markdown",
      "metadata": {
        "id": "LEuU8lL5cxGf",
        "colab_type": "text"
      },
      "source": [
        "#인공지능이 사용되는 4가지 분야\n",
        "\n",
        "현재 인공지능이 적용된 기술들은 매우 많다. 그중 아직 연구단계인 것들도 있고 상용화된 기술들도 있다. \n",
        "이번 조사에서는 현재 상용화된 기술과 나의 흥미 위주로 진행하였다.\n",
        "\n",
        "##언어분야\n",
        "\n",
        "* __인공지능 스포츠 기사를 작성하는 *'야알봇'*__\n",
        "\n",
        "야알봇은 KBO 경기 내용을 토대로 스포츠 기사를 작성하는 인공지능이다.\n",
        "\n",
        "야알봇이 기사를 작성하는데는 4단계가 필요하다.\n",
        "\n",
        "1. 데이터 수집\n",
        "\n",
        "포털 사이트에서 경기를 실시간으로 줄계하는 문자 중계 데이터를 모은다.\n",
        "\n",
        "2. 중요 이벤트 선별\n",
        "\n",
        "'세이버 매트릭스' 알고리즘(다양한 수치를 활용해 중요한 플레이를 찾아내는 통계기법)을 이용하여 데이터를 추출하고, 이를 이벤트라는 이름으로 저장한다.\n",
        "\n",
        "이벤트에는 중요도를 부여한다.\n",
        "\n",
        "3. 무드 탐지 \n",
        "\n",
        "중요 이벤트를 묶어 기사의 분위기를 설정\n",
        "\n",
        "4. 기사 작성\n",
        "\n",
        "알고리즘을 이용해 비워둔 문장과 데이터에 주어와 목적어를 결합한다.\n",
        "\n",
        "![Alt text](./img/image.png)\n",
        "\n",
        "* 챗봇\n",
        "\n",
        "\n",
        "##음성분야\n",
        "\n",
        "* 네이버 클로바 음성 서비스\n",
        "* 음성인식\n",
        "\n",
        "##이미지 분야\n",
        "\n",
        "* 야구 하이라이트 자동 생성 서비스\n",
        "* 얼굴 인식을 통한 출입관리\n",
        "\n",
        "##자율주행\n",
        "\n",
        "* 테슬라 완전자율주행\n",
        "\n",
        "\n",
        "\n",
        "\n"
      ]
    },
    {
      "cell_type": "code",
      "metadata": {
        "id": "4s7yfcZz3sph",
        "colab_type": "code",
        "colab": {}
      },
      "source": [
        "ㅆ"
      ],
      "execution_count": 0,
      "outputs": []
    }
  ]
}